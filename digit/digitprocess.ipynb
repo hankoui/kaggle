{
  "cells": [
    {
      "cell_type": "markdown",
      "metadata": {
        "_cell_guid": "2c757283-bef4-f155-7cc3-ce12c603c742"
      },
      "source": [
        "This is a work in progress..."
      ]
    },
    {
      "cell_type": "markdown",
      "metadata": {
        "_cell_guid": "0a1aafad-0b44-9a0a-d013-b798eba5013e"
      },
      "source": [
        "Code derived from:\n",
        "    #python notebook for Make Your Own Neural Network #code for a 3\u00adlayer neural network, \n",
        "    and code for learning the MNIST dataset #(c) Tariq Rashid, 2016 #license is GPLv2\n",
        "\n",
        "Rashid, Tariq (2016-04-16). Make Your Own Neural Network (Page 155).  . Kindle Edition. "
      ]
    },
    {
      "cell_type": "code",
      "execution_count": null,
      "metadata": {
        "_cell_guid": "23f95a97-b542-f54b-e754-6d9177ff3a49"
      },
      "outputs": [],
      "source": [
        "# This Python 3 environment comes with many helpful analytics libraries installed\n",
        "# It is defined by the kaggle/python docker image: https://github.com/kaggle/docker-python\n",
        "# For example, here's several helpful packages to load in \n",
        "\n",
        "import numpy # linear algebra\n",
        "import pandas as pd # data processing, CSV file I/O (e.g. pd.read_csv)\n",
        "import scipy.special\n",
        "\n",
        "import matplotlib.pyplot\n",
        "%matplotlib inline\n",
        "\n",
        "# Input data files are available in the \"../input/\" directory.\n",
        "# For example, running this (by clicking run or pressing Shift+Enter) will list the files in the input directory\n",
        "\n",
        "from subprocess import check_output\n",
        "print(check_output([\"ls\", \"../input\"]).decode(\"utf8\"))\n",
        "\n",
        "# Any results you write to the current directory are saved as output.\n",
        "\n",
        "data_file = open(\"../input/train.csv\", 'r')\n",
        "header = data_file.readline()\n",
        "data_list = data_file.readlines()\n",
        "data_file.close()\n",
        "\n",
        "len(data_list)\n",
        "\n",
        "data_list[0]"
      ]
    },
    {
      "cell_type": "markdown",
      "metadata": {
        "_cell_guid": "3c5f6ae0-5b04-6de4-80ca-56a493a1b62d"
      },
      "source": [
        "Lets look at one of the rows of data and plot it."
      ]
    },
    {
      "cell_type": "code",
      "execution_count": null,
      "metadata": {
        "_cell_guid": "c3830660-ac74-3dc0-3933-ccda2d8da063"
      },
      "outputs": [],
      "source": [
        "data_values = data_list[8].split(',')\n",
        "image_array = np.asfarray(data_values[1:]).reshape((28,28))\n",
        "matplotlib.pyplot.imshow(image_array, cmap='Greys', interpolation='None')"
      ]
    },
    {
      "cell_type": "markdown",
      "metadata": {
        "_cell_guid": "60c4979c-81d0-25e0-ed83-3952a3e27f40"
      },
      "source": [
        "Scale the input so that it is in the range of 0.01 - 1.0 instead of 0 - 255:"
      ]
    },
    {
      "cell_type": "code",
      "execution_count": null,
      "metadata": {
        "_cell_guid": "37412dd5-bb9f-e088-57b2-bb005ba98c97"
      },
      "outputs": [],
      "source": [
        "scaled_input = (np.asfarray(data_values[1:]) / 255.0 * 0.99) + 0.01\n",
        "print(scaled_input)"
      ]
    },
    {
      "cell_type": "markdown",
      "metadata": {
        "_cell_guid": "d1a7a107-7848-0a1b-cf58-95ccd5c4ff2d"
      },
      "source": [
        "Create a target vector:"
      ]
    },
    {
      "cell_type": "code",
      "execution_count": null,
      "metadata": {
        "_cell_guid": "8bfa6473-2c8e-91a3-c48e-02d8b80ce270"
      },
      "outputs": [],
      "source": [
        "out_nodes = 10\n",
        "targets = np.zeros(out_nodes) + 0.01\n",
        "targets[int(data_values[0])] = 0.99\n",
        "print (targets)"
      ]
    },
    {
      "cell_type": "code",
      "execution_count": null,
      "metadata": {
        "_cell_guid": "b1772cc0-112f-adec-5bfe-385f83b52198"
      },
      "outputs": [],
      "source": [
        "# neural network class definition\n",
        "class neuralNetwork:\n",
        "    \n",
        "    \n",
        "    # initialise the neural network\n",
        "    def __init__(self, inputnodes, hiddennodes, outputnodes, learningrate):\n",
        "        # set number of nodes in each input, hidden, output layer\n",
        "        self.inodes = inputnodes\n",
        "        self.hnodes = hiddennodes\n",
        "        self.onodes = outputnodes\n",
        "        \n",
        "        # link weight matrices, wih and who\n",
        "        # weights inside the arrays are w_i_j, where link is from node i to node j in the next layer\n",
        "        # w11 w21\n",
        "        # w12 w22 etc \n",
        "        self.wih = numpy.random.normal(0.0, pow(self.inodes, -0.5), (self.hnodes, self.inodes))\n",
        "        self.who = numpy.random.normal(0.0, pow(self.hnodes, -0.5), (self.onodes, self.hnodes))\n",
        "\n",
        "        # learning rate\n",
        "        self.lr = learningrate\n",
        "        \n",
        "        # activation function is the sigmoid function\n",
        "        self.activation_function = lambda x: scipy.special.expit(x)\n",
        "        \n",
        "        pass\n",
        "\n",
        "    \n",
        "    # train the neural network\n",
        "    def train(self, inputs_list, targets_list):\n",
        "        # convert inputs list to 2d array\n",
        "        inputs = numpy.array(inputs_list, ndmin=2).T\n",
        "        targets = numpy.array(targets_list, ndmin=2).T\n",
        "        \n",
        "        # calculate signals into hidden layer\n",
        "        hidden_inputs = numpy.dot(self.wih, inputs)\n",
        "        # calculate the signals emerging from hidden layer\n",
        "        hidden_outputs = self.activation_function(hidden_inputs)\n",
        "        \n",
        "        # calculate signals into final output layer\n",
        "        final_inputs = numpy.dot(self.who, hidden_outputs)\n",
        "        # calculate the signals emerging from final output layer\n",
        "        final_outputs = self.activation_function(final_inputs)\n",
        "        \n",
        "        # output layer error is the (target - actual)\n",
        "        output_errors = targets - final_outputs\n",
        "        # hidden layer error is the output_errors, split by weights, recombined at hidden nodes\n",
        "        hidden_errors = numpy.dot(self.who.T, output_errors) \n",
        "        \n",
        "        # update the weights for the links between the hidden and output layers\n",
        "        self.who += self.lr * numpy.dot((output_errors * final_outputs * (1.0 - final_outputs)), numpy.transpose(hidden_outputs))\n",
        "        \n",
        "        # update the weights for the links between the input and hidden layers\n",
        "        self.wih += self.lr * numpy.dot((hidden_errors * hidden_outputs * (1.0 - hidden_outputs)), numpy.transpose(inputs))\n",
        "        \n",
        "        pass\n",
        "\n",
        "    \n",
        "    # query the neural network\n",
        "    def query(self, inputs_list):\n",
        "        # convert inputs list to 2d array\n",
        "        inputs = numpy.array(inputs_list, ndmin=2).T\n",
        "        \n",
        "        # calculate signals into hidden layer\n",
        "        hidden_inputs = numpy.dot(self.wih, inputs)\n",
        "        # calculate the signals emerging from hidden layer\n",
        "        hidden_outputs = self.activation_function(hidden_inputs)\n",
        "        \n",
        "        # calculate signals into final output layer\n",
        "        final_inputs = numpy.dot(self.who, hidden_outputs)\n",
        "        # calculate the signals emerging from final output layer\n",
        "        final_outputs = self.activation_function(final_inputs)\n",
        "        \n",
        "        return final_outputs"
      ]
    },
    {
      "cell_type": "code",
      "execution_count": null,
      "metadata": {
        "_cell_guid": "dd2b7472-8ff4-b2b8-238a-8374a1df65f5"
      },
      "outputs": [],
      "source": [
        "# number of input, hidden and output nodes\n",
        "input_nodes = 784\n",
        "hidden_nodes = 200\n",
        "output_nodes = 10\n",
        "\n",
        "# learning rate\n",
        "learning_rate = 0.1\n",
        "\n",
        "# create instance of neural network\n",
        "n = neuralNetwork(input_nodes,hidden_nodes,output_nodes, learning_rate)"
      ]
    },
    {
      "cell_type": "code",
      "execution_count": null,
      "metadata": {
        "_cell_guid": "3f51fa76-c983-4cf3-de94-f30923e5e49b"
      },
      "outputs": [],
      "source": [
        "# load the mnist training data CSV file into a list\n",
        "training_data_file = open(\"../input/train.csv\", 'r')\n",
        "header = training_data_file.readline()\n",
        "training_data_list = training_data_file.readlines()\n",
        "training_data_file.close()"
      ]
    },
    {
      "cell_type": "code",
      "execution_count": null,
      "metadata": {
        "_cell_guid": "b4d6e508-45de-57f2-f539-2585912ca064"
      },
      "outputs": [],
      "source": [
        "# train the neural network\n",
        "\n",
        "# epochs is the number of times the training data set is used for training\n",
        "epochs = 5\n",
        "\n",
        "for e in range(epochs):\n",
        "    # go through all records in the training data set\n",
        "    for record in training_data_list:\n",
        "        # split the record by the ',' commas\n",
        "        all_values = record.split(',')\n",
        "        # scale and shift the inputs\n",
        "        inputs = (numpy.asfarray(all_values[1:]) / 255.0 * 0.99) + 0.01\n",
        "        # create the target output values (all 0.01, except the desired label which is 0.99)\n",
        "        targets = numpy.zeros(output_nodes) + 0.01\n",
        "        # all_values[0] is the target label for this record\n",
        "        targets[int(all_values[0])] = 0.99\n",
        "        n.train(inputs, targets)\n",
        "        pass\n",
        "    pass"
      ]
    },
    {
      "cell_type": "code",
      "execution_count": null,
      "metadata": {
        "_cell_guid": "c8abc68d-32d6-7124-e393-ca8fb09b3681"
      },
      "outputs": [],
      "source": [
        "# load the mnist test data CSV file into a list\n",
        "test_data_file = open(\"../input/test.csv\", 'r')\n",
        "header = test_data_file.readline()\n",
        "test_data_list = test_data_file.readlines()\n",
        "test_data_file.close()"
      ]
    },
    {
      "cell_type": "code",
      "execution_count": null,
      "metadata": {
        "_cell_guid": "7b3e4d3a-b093-4bfc-c0cf-8c6b63815ceb"
      },
      "outputs": [],
      "source": [
        "# test the neural network\n",
        "\n",
        "# scorecard for how well the network performs, initially empty\n",
        "scorecard = []\n",
        "\n",
        "# go through all the records in the test data set\n",
        "for record in test_data_list:\n",
        "    # split the record by the ',' commas\n",
        "    all_values = record.split(',')\n",
        "    # correct answer is first value\n",
        "    correct_label = int(all_values[0])\n",
        "    # scale and shift the inputs\n",
        "    inputs = (numpy.asfarray(all_values[1:]) / 255.0 * 0.99) + 0.01\n",
        "    # query the network\n",
        "    outputs = n.query(inputs)\n",
        "    # the index of the highest value corresponds to the label\n",
        "    label = numpy.argmax(outputs)\n",
        "    # append correct or incorrect to list\n",
        "    if (label == correct_label):\n",
        "        # network's answer matches correct answer, add 1 to scorecard\n",
        "        scorecard.append(1)\n",
        "    else:\n",
        "        # network's answer doesn't match correct answer, add 0 to scorecard\n",
        "        scorecard.append(0)\n",
        "        pass\n",
        "    \n",
        "    pass"
      ]
    },
    {
      "cell_type": "code",
      "execution_count": null,
      "metadata": {
        "_cell_guid": "d7d5ea8f-dfff-3759-47db-f759f4fbde38"
      },
      "outputs": [],
      "source": [
        "# calculate the performance score, the fraction of correct answers\n",
        "scorecard_array = numpy.asarray(scorecard)\n",
        "print (\"performance = \", scorecard_array.sum() / scorecard_array.size)"
      ]
    }
  ],
  "metadata": {
    "_change_revision": 2,
    "_is_fork": false,
    "kernelspec": {
      "display_name": "Python 3",
      "language": "python",
      "name": "python3"
    },
    "language_info": {
      "codemirror_mode": {
        "name": "ipython",
        "version": 3
      },
      "file_extension": ".py",
      "mimetype": "text/x-python",
      "name": "python",
      "nbconvert_exporter": "python",
      "pygments_lexer": "ipython3",
      "version": "3.6.0"
    }
  },
  "nbformat": 4,
  "nbformat_minor": 0
}